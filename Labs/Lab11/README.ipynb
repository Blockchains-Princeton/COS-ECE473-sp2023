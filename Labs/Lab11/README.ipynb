{
 "cells": [
  {
   "cell_type": "markdown",
   "id": "74e5d3ef-d873-4ba5-9b81-e99861e04023",
   "metadata": {},
   "source": [
    "# Flash Loans\n",
    "\n",
    "# Objective\n",
    "\n",
    "- Perform a profitable arbitrage between a Uniswap and Sushiswap pool using a Flash Loan from Aave"
   ]
  },
  {
   "cell_type": "markdown",
   "id": "953883c5-a393-4c6d-8e5b-08e5e9a9dbdf",
   "metadata": {},
   "source": [
    "# Background\n",
    "\n",
    "An [arbitrage](https://www.investopedia.com/terms/a/arbitrage.asp) involves taking advantage of different prices for the same asset on different exchanges. For example, if some asset was trading for \\\\$1 on exchange A and trading for \\\\$2 on exchange B, you could buy it on exchange A for \\\\$1 and then sell it on exchange B for \\\\$2, thus netting you a profit from the difference. Due to [slippage](https://www.investopedia.com/terms/s/slippage.asp), performing the arbitrage will eventually cause the prices on the two exchanges will reach an equilibrium at which point no profitable arbitrage opportunity remains. Note that these are general finance concepts and are not specific to DeFi.\n",
    "\n",
    "Since DeFi exchanges are often in the form of permissionless smart contracts, anyone can perform an arbitrage by buying/selling through calling the contracts. We can also guarantee through code that the trades that make up our arbitrage result in a profit, otherwise we can revert the entire transaction (ie. if the prices have changed in the meantime).\n",
    "\n",
    "Notice that performing an arbitrage requires initial capital as you need to buy the asset on the venue where it's trading cheap before you can sell it on the other exchange. This is where Flash Loans come in. Flash Loans allow you to borrow an essentially unlimited amount of an asset using zero collateral, as long as you return the full amount borrowed *within the same transaction*. This is unique to DeFi and has no comparable analogy in traditional finance.\n",
    "\n",
    "Flash Loans typically operate similar to the following:\n",
    "\n",
    "- Your contract calls the public Flash Loan function (eg. `flashLoan`) on the protocol's contract\n",
    "- The protocol's contract sends you the requested funds and then calls a designated callback function defined in your contract (eg. `executeOperation`)\n",
    "- The protocol's contract ensures that you have enough funds to repay the borrowed amount (plus a fee) and reclaims those funds\n",
    "\n",
    "The `executeOperation` function in your contract can perform any arbitrary logic using the funds. Once it finishes, execution returns back to the calling protocol contract where it can transfer the borrowed funds back to itself and ensure the entire amount is repaid. If you no longer have enough funds to repay the borrowed amount by the last step, the entire transaction will fail. As a result, the protocol can let anyone borrow any amount with no risk of losing assets.\n",
    "\n",
    "Flash Loan providers are typically protocols with large amounts of deposits, since that's the capital being used for the loans. One of the most popular examples is the lending protocol [Aave](https://docs.aave.com/developers/guides/flash-loans)."
   ]
  },
  {
   "cell_type": "markdown",
   "id": "efed0253-d653-4e7a-b47b-123d4871ae33",
   "metadata": {
    "tags": []
   },
   "source": [
    "# Overview\n",
    "\n",
    "In this lab, we are going to perform a profitable arbitrage between the Uniswap and SushiSwap `wBTC/LUSD` pools. We have created a `wBTC/LUSD` pool for both protocols on the Goerli Testnet and have artificially created an arbitrage opportunity by manipulating the swap rates in each pool to be different.\n",
    "\n",
    "We are going to Flash Loan `wBTC` from Aave in order to perform the arbitrage between two pools without needing to have any of either token to start with.\n",
    "\n",
    "The arbitrage is as follows (assume `wBTC/LUSD` is cheaper on Uniswap):\n",
    "\n",
    "- Flash Loan X amount of `wBTC` from Aave (we now have X `wBTC` and 0 `LUSD`)\n",
    "- Swap all our `wBTC` for `LUSD` on the SushiSwap pool contract (we now have 0 `wBTC` and Y `LUSD`)\n",
    "- Swap all our `LUSD` for `wBTC` on the Uniswap pool contract (we now have Z `wBTC` and 0 `LUSD`)\n",
    "- Repay the borrowed X `wBTC` + a small fee to the Aave contract (we now have Z-X-fee `wBTC` and 0 `LUSD`)\n",
    "\n",
    "If we cannot afford to repay what we borrowed in the last step, the whole transaction will revert. If the transaction does not revert, then we must have made a profit! Note that our profit is denominated in `wBTC`. Optionally, we could include a final step to swap our profit into some other token, such as a stablecoin.\n",
    "\n",
    "Please read the [Aave docs](https://docs.aave.com/developers/guides/flash-loans) on Flash Loans to understand how they work in practice. Importantly, note that:\n",
    "- We want to use the [`flashLoanSimple`](https://docs.aave.com/developers/core-contracts/pool#flashloansimple) function defined in the Aave Pool contract\n",
    "- The `flashLoanSimple` will call the callback function in our contract named `executeOperation`\n",
    "- We do not need to transfer the borrowed funds back; the Aave contract will automatically take back the borrowed funds (assuming we have enough funds)"
   ]
  },
  {
   "cell_type": "code",
   "execution_count": null,
   "id": "bfa3ffff-e82c-4fe9-b943-f8d95195e0ce",
   "metadata": {},
   "outputs": [],
   "source": [
    "### SETUP ###\n",
    "\n",
    "from web3 import Web3\n",
    "import time\n",
    "import json"
   ]
  },
  {
   "cell_type": "code",
   "execution_count": null,
   "id": "a66b7f0c-37e4-4e92-982a-e6df2854ae29",
   "metadata": {},
   "outputs": [],
   "source": [
    "### Constants ###\n",
    "\n",
    "RPC_URL = \"YOUR GOERLI RPC URL HERE\"\n",
    "\n",
    "# These are the wBTC/LUSD pools we created\n",
    "UNISWAP_POOL_ADDRESS = \"0x4127590e224411d002FFc8ead0c3D94C6B6b0a4f\"\n",
    "SUSHISWAP_POOL_ADDRESS = \"0xA5342DAaF01013b167d4e42188E96E1b8eF61DA4\"\n",
    "\n",
    "WBTC_ADDRESS = \"0x45AC379F019E48ca5dAC02E54F406F99F5088099\"\n",
    "LUSD_ADDRESS = \"0x4966Bb6Cd9f3e042331b0798525b7970eFB0D94A\""
   ]
  },
  {
   "cell_type": "code",
   "execution_count": null,
   "id": "946f330e-c4fa-439c-84ea-0951cd824526",
   "metadata": {},
   "outputs": [],
   "source": [
    "# Replace with your private key\n",
    "PRIVATE_KEY = \"YOUR PRIVATE KEY HERE\""
   ]
  },
  {
   "cell_type": "code",
   "execution_count": null,
   "id": "e45f8117-1c20-4bbd-bddb-b9debafee236",
   "metadata": {
    "tags": []
   },
   "outputs": [],
   "source": [
    "# ABIs\n",
    "\n",
    "ERC20_ABI = '[{\"constant\":true,\"inputs\":[],\"name\":\"name\",\"outputs\":[{\"name\":\"\",\"type\":\"string\"}],\"payable\":false,\"stateMutability\":\"view\",\"type\":\"function\"},{\"constant\":false,\"inputs\":[{\"name\":\"_spender\",\"type\":\"address\"},{\"name\":\"_value\",\"type\":\"uint256\"}],\"name\":\"approve\",\"outputs\":[{\"name\":\"\",\"type\":\"bool\"}],\"payable\":false,\"stateMutability\":\"nonpayable\",\"type\":\"function\"},{\"constant\":true,\"inputs\":[],\"name\":\"totalSupply\",\"outputs\":[{\"name\":\"\",\"type\":\"uint256\"}],\"payable\":false,\"stateMutability\":\"view\",\"type\":\"function\"},{\"constant\":false,\"inputs\":[{\"name\":\"_from\",\"type\":\"address\"},{\"name\":\"_to\",\"type\":\"address\"},{\"name\":\"_value\",\"type\":\"uint256\"}],\"name\":\"transferFrom\",\"outputs\":[{\"name\":\"\",\"type\":\"bool\"}],\"payable\":false,\"stateMutability\":\"nonpayable\",\"type\":\"function\"},{\"constant\":true,\"inputs\":[],\"name\":\"decimals\",\"outputs\":[{\"name\":\"\",\"type\":\"uint8\"}],\"payable\":false,\"stateMutability\":\"view\",\"type\":\"function\"},{\"constant\":true,\"inputs\":[{\"name\":\"_owner\",\"type\":\"address\"}],\"name\":\"balanceOf\",\"outputs\":[{\"name\":\"balance\",\"type\":\"uint256\"}],\"payable\":false,\"stateMutability\":\"view\",\"type\":\"function\"},{\"constant\":true,\"inputs\":[],\"name\":\"symbol\",\"outputs\":[{\"name\":\"\",\"type\":\"string\"}],\"payable\":false,\"stateMutability\":\"view\",\"type\":\"function\"},{\"constant\":false,\"inputs\":[{\"name\":\"_to\",\"type\":\"address\"},{\"name\":\"_value\",\"type\":\"uint256\"}],\"name\":\"transfer\",\"outputs\":[{\"name\":\"\",\"type\":\"bool\"}],\"payable\":false,\"stateMutability\":\"nonpayable\",\"type\":\"function\"},{\"constant\":true,\"inputs\":[{\"name\":\"_owner\",\"type\":\"address\"},{\"name\":\"_spender\",\"type\":\"address\"}],\"name\":\"allowance\",\"outputs\":[{\"name\":\"\",\"type\":\"uint256\"}],\"payable\":false,\"stateMutability\":\"view\",\"type\":\"function\"},{\"payable\":true,\"stateMutability\":\"payable\",\"type\":\"fallback\"},{\"anonymous\":false,\"inputs\":[{\"indexed\":true,\"name\":\"owner\",\"type\":\"address\"},{\"indexed\":true,\"name\":\"spender\",\"type\":\"address\"},{\"indexed\":false,\"name\":\"value\",\"type\":\"uint256\"}],\"name\":\"Approval\",\"type\":\"event\"},{\"anonymous\":false,\"inputs\":[{\"indexed\":true,\"name\":\"from\",\"type\":\"address\"},{\"indexed\":true,\"name\":\"to\",\"type\":\"address\"},{\"indexed\":false,\"name\":\"value\",\"type\":\"uint256\"}],\"name\":\"Transfer\",\"type\":\"event\"}]'\n",
    "UNISWAP_V2_PAIR_ABI = '[{\"anonymous\":false,\"inputs\":[{\"indexed\":true,\"internalType\":\"address\",\"name\":\"owner\",\"type\":\"address\"},{\"indexed\":true,\"internalType\":\"address\",\"name\":\"spender\",\"type\":\"address\"},{\"indexed\":false,\"internalType\":\"uint256\",\"name\":\"value\",\"type\":\"uint256\"}],\"name\":\"Approval\",\"type\":\"event\"},{\"anonymous\":false,\"inputs\":[{\"indexed\":true,\"internalType\":\"address\",\"name\":\"sender\",\"type\":\"address\"},{\"indexed\":false,\"internalType\":\"uint256\",\"name\":\"amount0\",\"type\":\"uint256\"},{\"indexed\":false,\"internalType\":\"uint256\",\"name\":\"amount1\",\"type\":\"uint256\"},{\"indexed\":true,\"internalType\":\"address\",\"name\":\"to\",\"type\":\"address\"}],\"name\":\"Burn\",\"type\":\"event\"},{\"anonymous\":false,\"inputs\":[{\"indexed\":true,\"internalType\":\"address\",\"name\":\"sender\",\"type\":\"address\"},{\"indexed\":false,\"internalType\":\"uint256\",\"name\":\"amount0\",\"type\":\"uint256\"},{\"indexed\":false,\"internalType\":\"uint256\",\"name\":\"amount1\",\"type\":\"uint256\"}],\"name\":\"Mint\",\"type\":\"event\"},{\"anonymous\":false,\"inputs\":[{\"indexed\":true,\"internalType\":\"address\",\"name\":\"sender\",\"type\":\"address\"},{\"indexed\":false,\"internalType\":\"uint256\",\"name\":\"amount0In\",\"type\":\"uint256\"},{\"indexed\":false,\"internalType\":\"uint256\",\"name\":\"amount1In\",\"type\":\"uint256\"},{\"indexed\":false,\"internalType\":\"uint256\",\"name\":\"amount0Out\",\"type\":\"uint256\"},{\"indexed\":false,\"internalType\":\"uint256\",\"name\":\"amount1Out\",\"type\":\"uint256\"},{\"indexed\":true,\"internalType\":\"address\",\"name\":\"to\",\"type\":\"address\"}],\"name\":\"Swap\",\"type\":\"event\"},{\"anonymous\":false,\"inputs\":[{\"indexed\":false,\"internalType\":\"uint112\",\"name\":\"reserve0\",\"type\":\"uint112\"},{\"indexed\":false,\"internalType\":\"uint112\",\"name\":\"reserve1\",\"type\":\"uint112\"}],\"name\":\"Sync\",\"type\":\"event\"},{\"anonymous\":false,\"inputs\":[{\"indexed\":true,\"internalType\":\"address\",\"name\":\"from\",\"type\":\"address\"},{\"indexed\":true,\"internalType\":\"address\",\"name\":\"to\",\"type\":\"address\"},{\"indexed\":false,\"internalType\":\"uint256\",\"name\":\"value\",\"type\":\"uint256\"}],\"name\":\"Transfer\",\"type\":\"event\"},{\"constant\":true,\"inputs\":[],\"name\":\"DOMAIN_SEPARATOR\",\"outputs\":[{\"internalType\":\"bytes32\",\"name\":\"\",\"type\":\"bytes32\"}],\"payable\":false,\"stateMutability\":\"view\",\"type\":\"function\"},{\"constant\":true,\"inputs\":[],\"name\":\"MINIMUM_LIQUIDITY\",\"outputs\":[{\"internalType\":\"uint256\",\"name\":\"\",\"type\":\"uint256\"}],\"payable\":false,\"stateMutability\":\"pure\",\"type\":\"function\"},{\"constant\":true,\"inputs\":[],\"name\":\"PERMIT_TYPEHASH\",\"outputs\":[{\"internalType\":\"bytes32\",\"name\":\"\",\"type\":\"bytes32\"}],\"payable\":false,\"stateMutability\":\"pure\",\"type\":\"function\"},{\"constant\":true,\"inputs\":[{\"internalType\":\"address\",\"name\":\"owner\",\"type\":\"address\"},{\"internalType\":\"address\",\"name\":\"spender\",\"type\":\"address\"}],\"name\":\"allowance\",\"outputs\":[{\"internalType\":\"uint256\",\"name\":\"\",\"type\":\"uint256\"}],\"payable\":false,\"stateMutability\":\"view\",\"type\":\"function\"},{\"constant\":false,\"inputs\":[{\"internalType\":\"address\",\"name\":\"spender\",\"type\":\"address\"},{\"internalType\":\"uint256\",\"name\":\"value\",\"type\":\"uint256\"}],\"name\":\"approve\",\"outputs\":[{\"internalType\":\"bool\",\"name\":\"\",\"type\":\"bool\"}],\"payable\":false,\"stateMutability\":\"nonpayable\",\"type\":\"function\"},{\"constant\":true,\"inputs\":[{\"internalType\":\"address\",\"name\":\"owner\",\"type\":\"address\"}],\"name\":\"balanceOf\",\"outputs\":[{\"internalType\":\"uint256\",\"name\":\"\",\"type\":\"uint256\"}],\"payable\":false,\"stateMutability\":\"view\",\"type\":\"function\"},{\"constant\":false,\"inputs\":[{\"internalType\":\"address\",\"name\":\"to\",\"type\":\"address\"}],\"name\":\"burn\",\"outputs\":[{\"internalType\":\"uint256\",\"name\":\"amount0\",\"type\":\"uint256\"},{\"internalType\":\"uint256\",\"name\":\"amount1\",\"type\":\"uint256\"}],\"payable\":false,\"stateMutability\":\"nonpayable\",\"type\":\"function\"},{\"constant\":true,\"inputs\":[],\"name\":\"decimals\",\"outputs\":[{\"internalType\":\"uint8\",\"name\":\"\",\"type\":\"uint8\"}],\"payable\":false,\"stateMutability\":\"pure\",\"type\":\"function\"},{\"constant\":true,\"inputs\":[],\"name\":\"factory\",\"outputs\":[{\"internalType\":\"address\",\"name\":\"\",\"type\":\"address\"}],\"payable\":false,\"stateMutability\":\"view\",\"type\":\"function\"},{\"constant\":true,\"inputs\":[],\"name\":\"getReserves\",\"outputs\":[{\"internalType\":\"uint112\",\"name\":\"reserve0\",\"type\":\"uint112\"},{\"internalType\":\"uint112\",\"name\":\"reserve1\",\"type\":\"uint112\"},{\"internalType\":\"uint32\",\"name\":\"blockTimestampLast\",\"type\":\"uint32\"}],\"payable\":false,\"stateMutability\":\"view\",\"type\":\"function\"},{\"constant\":false,\"inputs\":[{\"internalType\":\"address\",\"name\":\"\",\"type\":\"address\"},{\"internalType\":\"address\",\"name\":\"\",\"type\":\"address\"}],\"name\":\"initialize\",\"outputs\":[],\"payable\":false,\"stateMutability\":\"nonpayable\",\"type\":\"function\"},{\"constant\":true,\"inputs\":[],\"name\":\"kLast\",\"outputs\":[{\"internalType\":\"uint256\",\"name\":\"\",\"type\":\"uint256\"}],\"payable\":false,\"stateMutability\":\"view\",\"type\":\"function\"},{\"constant\":false,\"inputs\":[{\"internalType\":\"address\",\"name\":\"to\",\"type\":\"address\"}],\"name\":\"mint\",\"outputs\":[{\"internalType\":\"uint256\",\"name\":\"liquidity\",\"type\":\"uint256\"}],\"payable\":false,\"stateMutability\":\"nonpayable\",\"type\":\"function\"},{\"constant\":true,\"inputs\":[],\"name\":\"name\",\"outputs\":[{\"internalType\":\"string\",\"name\":\"\",\"type\":\"string\"}],\"payable\":false,\"stateMutability\":\"pure\",\"type\":\"function\"},{\"constant\":true,\"inputs\":[{\"internalType\":\"address\",\"name\":\"owner\",\"type\":\"address\"}],\"name\":\"nonces\",\"outputs\":[{\"internalType\":\"uint256\",\"name\":\"\",\"type\":\"uint256\"}],\"payable\":false,\"stateMutability\":\"view\",\"type\":\"function\"},{\"constant\":false,\"inputs\":[{\"internalType\":\"address\",\"name\":\"owner\",\"type\":\"address\"},{\"internalType\":\"address\",\"name\":\"spender\",\"type\":\"address\"},{\"internalType\":\"uint256\",\"name\":\"value\",\"type\":\"uint256\"},{\"internalType\":\"uint256\",\"name\":\"deadline\",\"type\":\"uint256\"},{\"internalType\":\"uint8\",\"name\":\"v\",\"type\":\"uint8\"},{\"internalType\":\"bytes32\",\"name\":\"r\",\"type\":\"bytes32\"},{\"internalType\":\"bytes32\",\"name\":\"s\",\"type\":\"bytes32\"}],\"name\":\"permit\",\"outputs\":[],\"payable\":false,\"stateMutability\":\"nonpayable\",\"type\":\"function\"},{\"constant\":true,\"inputs\":[],\"name\":\"price0CumulativeLast\",\"outputs\":[{\"internalType\":\"uint256\",\"name\":\"\",\"type\":\"uint256\"}],\"payable\":false,\"stateMutability\":\"view\",\"type\":\"function\"},{\"constant\":true,\"inputs\":[],\"name\":\"price1CumulativeLast\",\"outputs\":[{\"internalType\":\"uint256\",\"name\":\"\",\"type\":\"uint256\"}],\"payable\":false,\"stateMutability\":\"view\",\"type\":\"function\"},{\"constant\":false,\"inputs\":[{\"internalType\":\"address\",\"name\":\"to\",\"type\":\"address\"}],\"name\":\"skim\",\"outputs\":[],\"payable\":false,\"stateMutability\":\"nonpayable\",\"type\":\"function\"},{\"constant\":false,\"inputs\":[{\"internalType\":\"uint256\",\"name\":\"amount0Out\",\"type\":\"uint256\"},{\"internalType\":\"uint256\",\"name\":\"amount1Out\",\"type\":\"uint256\"},{\"internalType\":\"address\",\"name\":\"to\",\"type\":\"address\"},{\"internalType\":\"bytes\",\"name\":\"data\",\"type\":\"bytes\"}],\"name\":\"swap\",\"outputs\":[],\"payable\":false,\"stateMutability\":\"nonpayable\",\"type\":\"function\"},{\"constant\":true,\"inputs\":[],\"name\":\"symbol\",\"outputs\":[{\"internalType\":\"string\",\"name\":\"\",\"type\":\"string\"}],\"payable\":false,\"stateMutability\":\"pure\",\"type\":\"function\"},{\"constant\":false,\"inputs\":[],\"name\":\"sync\",\"outputs\":[],\"payable\":false,\"stateMutability\":\"nonpayable\",\"type\":\"function\"},{\"constant\":true,\"inputs\":[],\"name\":\"token0\",\"outputs\":[{\"internalType\":\"address\",\"name\":\"\",\"type\":\"address\"}],\"payable\":false,\"stateMutability\":\"view\",\"type\":\"function\"},{\"constant\":true,\"inputs\":[],\"name\":\"token1\",\"outputs\":[{\"internalType\":\"address\",\"name\":\"\",\"type\":\"address\"}],\"payable\":false,\"stateMutability\":\"view\",\"type\":\"function\"},{\"constant\":true,\"inputs\":[],\"name\":\"totalSupply\",\"outputs\":[{\"internalType\":\"uint256\",\"name\":\"\",\"type\":\"uint256\"}],\"payable\":false,\"stateMutability\":\"view\",\"type\":\"function\"},{\"constant\":false,\"inputs\":[{\"internalType\":\"address\",\"name\":\"to\",\"type\":\"address\"},{\"internalType\":\"uint256\",\"name\":\"value\",\"type\":\"uint256\"}],\"name\":\"transfer\",\"outputs\":[{\"internalType\":\"bool\",\"name\":\"\",\"type\":\"bool\"}],\"payable\":false,\"stateMutability\":\"nonpayable\",\"type\":\"function\"},{\"constant\":false,\"inputs\":[{\"internalType\":\"address\",\"name\":\"from\",\"type\":\"address\"},{\"internalType\":\"address\",\"name\":\"to\",\"type\":\"address\"},{\"internalType\":\"uint256\",\"name\":\"value\",\"type\":\"uint256\"}],\"name\":\"transferFrom\",\"outputs\":[{\"internalType\":\"bool\",\"name\":\"\",\"type\":\"bool\"}],\"payable\":false,\"stateMutability\":\"nonpayable\",\"type\":\"function\"}]'\n",
    "FLASH_LOAN_ARBITRAGE_ABI = '[{\"inputs\":[],\"stateMutability\":\"nonpayable\",\"type\":\"constructor\"},{\"inputs\":[],\"name\":\"arbitrage\",\"outputs\":[],\"stateMutability\":\"nonpayable\",\"type\":\"function\"},{\"inputs\":[{\"internalType\":\"address\",\"name\":\"asset\",\"type\":\"address\"},{\"internalType\":\"uint256\",\"name\":\"amount\",\"type\":\"uint256\"},{\"internalType\":\"uint256\",\"name\":\"premium\",\"type\":\"uint256\"},{\"internalType\":\"address\",\"name\":\"initiator\",\"type\":\"address\"},{\"internalType\":\"bytes\",\"name\":\"params\",\"type\":\"bytes\"}],\"name\":\"executeOperation\",\"outputs\":[{\"internalType\":\"bool\",\"name\":\"\",\"type\":\"bool\"}],\"stateMutability\":\"nonpayable\",\"type\":\"function\"}]'"
   ]
  },
  {
   "cell_type": "code",
   "execution_count": null,
   "id": "dcdb64bd-06a1-4e6c-9195-61e0f490360c",
   "metadata": {},
   "outputs": [],
   "source": [
    "w3 = Web3(Web3.HTTPProvider(RPC_URL))\n",
    "\n",
    "# Setup contracts\n",
    "wbtc_contract = w3.eth.contract(address=WBTC_ADDRESS, abi=ERC20_ABI)\n",
    "lusd_contract = w3.eth.contract(address=LUSD_ADDRESS, abi=ERC20_ABI)\n",
    "uniswap_pool_contract = w3.eth.contract(address=UNISWAP_POOL_ADDRESS, abi=UNISWAP_V2_PAIR_ABI)\n",
    "sushiswap_pool_contract = w3.eth.contract(address=SUSHISWAP_POOL_ADDRESS, abi=UNISWAP_V2_PAIR_ABI)\n",
    "\n",
    "# Fetch token decimals\n",
    "wbtc_decimals = wbtc_contract.functions.decimals().call()\n",
    "lusd_decimals = lusd_contract.functions.decimals().call()\n",
    "\n",
    "# Returns the live quotes from the Uniswap and SushiSwap pool contracts\n",
    "def get_current_quotes():\n",
    "    uniswap_wbtc_amount, uniswap_lusd_amount, _ = uniswap_pool_contract.functions.getReserves().call()\n",
    "    sushiswap_wbtc_amount, sushiswap_lusd_amount, _ = sushiswap_pool_contract.functions.getReserves().call()\n",
    "\n",
    "    uniswap_rate = uniswap_lusd_amount / uniswap_wbtc_amount * 10**wbtc_decimals / 10**lusd_decimals\n",
    "    sushiswap_rate = sushiswap_lusd_amount / sushiswap_wbtc_amount * 10**wbtc_decimals / 10**lusd_decimals\n",
    "    \n",
    "    return uniswap_rate, sushiswap_rate"
   ]
  },
  {
   "cell_type": "markdown",
   "id": "0c94dec1-3201-4fdc-8676-1eb0ed3dada2",
   "metadata": {},
   "source": [
    "Let's get the live swap rates for both the Uniswap and Sushiswap `wBTC/LUSD` pools to see if there is an arbitrage opportunity:"
   ]
  },
  {
   "cell_type": "code",
   "execution_count": null,
   "id": "bb1d53e7-5e6c-4609-af37-1307db7c182c",
   "metadata": {},
   "outputs": [],
   "source": [
    "uniswap_rate, sushiswap_rate = get_current_quotes()\n",
    "print(f\"wBTC/LUSD exchange rate for Uniswap pool: {uniswap_rate}\")\n",
    "print(f\"wBTC/LUSD exchange rate for SushiSwap pool: {sushiswap_rate}\")"
   ]
  },
  {
   "cell_type": "markdown",
   "id": "5a6155e5-c278-403b-ae22-7fcc5770b7a1",
   "metadata": {},
   "source": [
    "As we see here, `wBTC` is worth a lot more `LUSD` on SushiSwap than it is on Uniswap right now.\n",
    "\n",
    "To take advantage of this, we want to *borrow* `wBTC`, *sell* `wBTC` in exchange for `LUSD` on SushiSwap, *buy* `wBTC` using the `LUSD` on Uniswap, return the original amount of `wBTC` we borrowed, and then our profit is the remaining `wBTC`.\n",
    "\n",
    "Furthermore, we want to use a Flash Loan for that first step, so we don't have to provide any of our own capital. To use a Flash Loan, we must call `flashLoanSimple` on the Aave contract, and that call must come from another contract since we must have a callback function named `executeOperation` for it to call, so our arbitrage logic must take place entirely within a smart contract rather than using an EOA and multiple transactions using `web3.py`."
   ]
  },
  {
   "cell_type": "markdown",
   "id": "28cf8791-1dc4-485e-9898-55e6eeaa58e4",
   "metadata": {},
   "source": [
    "## Contract\n",
    "\n",
    "The below contract implements all the logic described up to this point. The contract is deployed on Goerli at `0xa70BbA21c16c21CF129E3371F37cb0ec62fE4830` and [verified on Etherscan](https://goerli.etherscan.io/address/0xa70bba21c16c21cf129e3371f37cb0ec62fe4830#code), so you can view its source code there as well. The `arbitrage` function takes no arguments and is what triggers all the execution.\n",
    "\n",
    "Please read through the smart contract and understand each of the steps - this is where all the implementation is!"
   ]
  },
  {
   "cell_type": "markdown",
   "id": "5b27b402-1a49-4e1c-ba83-11ad941fbabf",
   "metadata": {
    "tags": []
   },
   "source": [
    "```javascript\n",
    "// SPDX-License-Identifier: UNLICENSED\n",
    "pragma solidity ^0.8.17;\n",
    "\n",
    "contract FlashLoanArbitrage {\n",
    "    /*\n",
    "        This contract is very simplistic and for demonstration purposes only. Here, we always sell on the SushiSwap\n",
    "        pool and buy back on the Uniswap pool (ie. we assume the Uniswap pool is always the one trading cheaper). In a\n",
    "        real contract, some things you might want to do include not hard coding the tokens or pools, dynamically\n",
    "        finding the optimal arbitrage path and amounts, and checking to ensure the arbitrage is profitable, just a few\n",
    "        examples.\n",
    "    */\n",
    "    uint256 constant MAX_UINT = 2**256 - 1;\n",
    "\n",
    "    // Address of the wBTC token contract\n",
    "    address constant WBTC_TOKEN = 0x45AC379F019E48ca5dAC02E54F406F99F5088099;\n",
    "\n",
    "    // Address of the LUSD token contract\n",
    "    address constant LUSD_TOKEN = 0x4966Bb6Cd9f3e042331b0798525b7970eFB0D94A;\n",
    "\n",
    "    // Addresses of the SushiSwap and Uniswap V2 routers we will be interacting with to perform the swaps\n",
    "    address constant SUSHISWAP_ROUTER = 0x1b02dA8Cb0d097eB8D57A175b88c7D8b47997506;\n",
    "    address constant UNISWAP_ROUTER = 0x7a250d5630B4cF539739dF2C5dAcb4c659F2488D;\n",
    "\n",
    "    // Address of the Aave pool we will be flash loaning from\n",
    "    address constant AAVE_POOL = 0x7b5C526B7F8dfdff278b4a3e045083FBA4028790;\n",
    "\n",
    "    constructor() {\n",
    "        // Approve the SushiSwap router for all our wBTC\n",
    "        IERC20(WBTC_TOKEN).approve(SUSHISWAP_ROUTER, MAX_UINT);\n",
    "\n",
    "        // Approve the Uniswap V2 router for all our LUSD\n",
    "        IERC20(LUSD_TOKEN).approve(UNISWAP_ROUTER, MAX_UINT);\n",
    "\n",
    "        // Approve the Aave pool for all our wBTC (needed to return the flash loan)\n",
    "        IERC20(WBTC_TOKEN).approve(AAVE_POOL, MAX_UINT);\n",
    "    }\n",
    "\n",
    "    /**\n",
    "     * @dev The entry point to this contract to perform the arbitrage. In this simplistic example,\n",
    "            we flash loan a constant amount of wBTC from the Aave pool and always perform swap it\n",
    "            for LUSD using the SushiSwap pool, and then swap the LUSD back to wBTC using the\n",
    "            Uniswap pool.\n",
    "     */\n",
    "    function arbitrage() external {\n",
    "        // Call the flash loan function in the Aave pool contract\n",
    "        // See Aave docs for more information:\n",
    "        // https://docs.aave.com/developers/core-contracts/pool#flashloansimple\n",
    "        IPool(AAVE_POOL).flashLoanSimple(\n",
    "            address(this), // receiverAddress: this contract\n",
    "            WBTC_TOKEN, // asset: wBTC\n",
    "            1000000, // amount: 0.01 wBTC\n",
    "            \"\", // params: not relevant here\n",
    "            0 // referralCode: not relevant here\n",
    "        );\n",
    "\n",
    "        // Any amount of wBTC in the contract is our profit\n",
    "        IERC20 wbtc = IERC20(WBTC_TOKEN);\n",
    "        uint256 profit = IERC20(WBTC_TOKEN).balanceOf(address(this));\n",
    "\n",
    "        // Send profit to caller\n",
    "        wbtc.transfer(msg.sender, profit);\n",
    "    }\n",
    "\n",
    "    /**\n",
    "     * @dev The callback function that will be invoked by the Aave contract.\n",
    "     * @param asset The address of the flash-borrowed asset\n",
    "     * @param amount The amount of the flash-borrowed asset\n",
    "     * @param premium The fee of the flash-borrowed asset\n",
    "     * @param initiator The address of the flashloan initiator\n",
    "     * @param params The byte-encoded params passed when initiating the flashloan\n",
    "     * @return True if the execution of the operation succeeds, false otherwise\n",
    "     */\n",
    "    function executeOperation(\n",
    "        address asset,\n",
    "        uint256 amount,\n",
    "        uint256 premium,\n",
    "        address initiator,\n",
    "        bytes calldata params\n",
    "    ) external returns (bool) {\n",
    "        // We interact with the routers to perform the swap, rather than the actual pool contracts directly\n",
    "        IUniswapV2Router02 sushiswapRouter = IUniswapV2Router02(SUSHISWAP_ROUTER);\n",
    "        IUniswapV2Router02 uniswapRouter = IUniswapV2Router02(UNISWAP_ROUTER);\n",
    "\n",
    "\n",
    "        /***** Swap all our wBTC for LUSD using the SushiSwap pool *****/\n",
    "\n",
    "        // Construct swap path\n",
    "        address[] memory path = new address[](2);\n",
    "        path[0] = WBTC_TOKEN;\n",
    "        path[1] = LUSD_TOKEN;\n",
    "\n",
    "        // Swap the 0.01 wBTC we flash loaned into LUSD\n",
    "        sushiswapRouter.swapExactTokensForTokens(\n",
    "            amount, // amountIn: amount of wBTC\n",
    "            0, // amountOutMin: minimum acceptable LUSD received\n",
    "            path, // path: swap path\n",
    "            address(this), // to: this contract\n",
    "            block.timestamp // deadline: latest acceptable time to complete the swap by\n",
    "        );\n",
    "\n",
    "\n",
    "        /***** Swap all our LUSD for wBTC using the Uniswap pool *****/\n",
    "\n",
    "        // Construct swap path\n",
    "        path[0] = LUSD_TOKEN;\n",
    "        path[1] = WBTC_TOKEN;\n",
    "\n",
    "        // Swap all the LUSD we received from the previous swap back into wBTC\n",
    "        uniswapRouter.swapExactTokensForTokens(\n",
    "            IERC20(LUSD_TOKEN).balanceOf(address(this)), // amountIn: amount of LUSD\n",
    "            0, // amountOutMin: minimum acceptable wBTC received\n",
    "            path, // path: swap path\n",
    "            address(this), // to: this contract\n",
    "            block.timestamp // deadline: latest acceptable time to complete the swap by\n",
    "        );\n",
    "\n",
    "        return true;\n",
    "    }\n",
    "}\n",
    "\n",
    "/**\n",
    " * @dev Partial interface for a Uniswap V2 router contract (SushiSwap pools use the same interface).\n",
    " */\n",
    "interface IUniswapV2Router02 {\n",
    "    function swapExactTokensForTokens(\n",
    "        uint256 amountIn,\n",
    "        uint256 amountOutMin,\n",
    "        address[] calldata path,\n",
    "        address to,\n",
    "        uint256 deadline\n",
    "    ) external returns (uint256[] memory amounts);\n",
    "}\n",
    "\n",
    "/**\n",
    " * @dev Partial interface for an Aave V3 pool contract.\n",
    " */\n",
    "interface IPool {\n",
    "    function flashLoanSimple(\n",
    "        address receiverAddress,\n",
    "        address asset,\n",
    "        uint256 amount,\n",
    "        bytes calldata params,\n",
    "        uint16 referralCode\n",
    "    ) external;\n",
    "}\n",
    "\n",
    "/**\n",
    " * @dev Partial interface for an ERC-20 token.\n",
    " */\n",
    "interface IERC20 {\n",
    "    function balanceOf(address account) external view returns (uint256);\n",
    "\n",
    "    function transfer(address to, uint256 amount) external returns (bool);\n",
    "\n",
    "    function approve(address spender, uint256 amount) external returns (bool);\n",
    "}\n",
    "```"
   ]
  },
  {
   "cell_type": "markdown",
   "id": "261049e8-0e1c-4e67-b3b3-1f16b962c403",
   "metadata": {
    "tags": []
   },
   "source": [
    "## Trying it live\n",
    "Now that the contract is deployed, we can call the `arbitrage` function from an EOA to execute the logic. Note that you don't need any `wBTC` or `LUSD` in your wallet to do this - that's the point of the Flash Loan!"
   ]
  },
  {
   "cell_type": "code",
   "execution_count": null,
   "id": "67918fc9-6c8a-4969-9f5e-394eccd6a8b7",
   "metadata": {},
   "outputs": [],
   "source": [
    "FLASH_LOAN_ARBITRAGE_ADDRESS = \"0xa70BbA21c16c21CF129E3371F37cb0ec62fE4830\"\n",
    "flash_loan_arbitrage_contract = w3.eth.contract(address=FLASH_LOAN_ARBITRAGE_ADDRESS, abi=FLASH_LOAN_ARBITRAGE_ABI)\n",
    "public_address = w3.eth.account.from_key(PRIVATE_KEY).address"
   ]
  },
  {
   "cell_type": "code",
   "execution_count": null,
   "id": "4a577481-b75d-4054-af6d-62b572b791e0",
   "metadata": {},
   "outputs": [],
   "source": [
    "### THIS CELL MAKES A TRANSACTION ###\n",
    "\n",
    "# Query wBTC balance and swap rates before doing the arbitrage\n",
    "wbtc_balance_before = wbtc_contract.functions.balanceOf(public_address).call()\n",
    "uniswap_rate_before, sushiswap_rate_before = get_current_quotes()\n",
    "\n",
    "# Doing the arbitrage - all we do is call the `arbitrage` function in the contract\n",
    "txn = flash_loan_arbitrage_contract.functions.arbitrage().build_transaction({'nonce':w3.eth.getTransactionCount(public_address),'from': public_address})\n",
    "txn_signed = w3.eth.account.signTransaction(txn, PRIVATE_KEY)\n",
    "txn_hash = w3.eth.send_raw_transaction(txn_signed.rawTransaction)\n",
    "w3.eth.waitForTransactionReceipt(txn_hash)\n",
    "time.sleep(10) # to ensure the below queries don't return stale values\n",
    "\n",
    "# Query wBTC balance and swap rates after doing the arbitrage\n",
    "wbtc_balance_after = wbtc_contract.functions.balanceOf(public_address).call()\n",
    "uniswap_rate_after, sushiswap_rate_after = get_current_quotes()"
   ]
  },
  {
   "cell_type": "code",
   "execution_count": null,
   "id": "c0854f49-b82d-4ba5-97a3-e2c4a1f3c4fa",
   "metadata": {},
   "outputs": [],
   "source": [
    "print(f\"Transaction hash:\\t {w3.toHex(txn_hash)}\")\n",
    "print(f\"Etherscan link:\\t\\t https://goerli.etherscan.io/tx/{w3.toHex(txn_hash)}\\n\")\n",
    "print(f\"Your wBTC balance before:\\t{wbtc_balance_before / 10**wbtc_decimals}\")\n",
    "print(f\"Your wBTC balance after:\\t{wbtc_balance_after / 10**wbtc_decimals}\")\n",
    "print(f\"Your wBTC profit:\\t\\t{(wbtc_balance_after - wbtc_balance_before) / 10**wbtc_decimals}\\n\")\n",
    "print(f\"wBTC/LUSD exchange rate for Uniswap pool before:\\t{uniswap_rate_before}\")\n",
    "print(f\"wBTC/LUSD exchange rate for SushiSwap pool before:\\t{sushiswap_rate_before}\\n\")\n",
    "print(f\"wBTC/LUSD exchange rate for Uniswap pool after:\\t\\t{uniswap_rate_after}\")\n",
    "print(f\"wBTC/LUSD exchange rate for SushiSwap pool after:\\t{sushiswap_rate_after}\\n\")"
   ]
  },
  {
   "cell_type": "markdown",
   "id": "94ca73c2-498e-4b36-9251-1f38815ee4f1",
   "metadata": {},
   "source": [
    "If all went well, you should see that you made a small `wBTC` profit, all without needing any of your own capital! Also, note that the exchange rates between the two pools have slightly converged - this is due to slippage. After enough arbitrages (or a single appropriately-sized arbitrage, the pools will converge to an equilibrium price at which point there will be no arbitrage opportunity left.) For the purposes of this lab, please refrain from running the above cell too many times. We have purposely made the swap amount small so we can maintain the difference in rates and keep the arbitrage opportunity for other students to run the lab."
   ]
  },
  {
   "cell_type": "markdown",
   "id": "b80f96c5-6c31-4afe-af15-98a6b2a20b78",
   "metadata": {},
   "source": [
    "## A note on MEV bots"
   ]
  },
  {
   "cell_type": "markdown",
   "id": "f913cad0-0c0c-44c2-8fcd-718429eb1c11",
   "metadata": {},
   "source": [
    "This example illustrates a classic type of MEV. If you were trying to arbitrage for profit, you would likely want to calculate the optimal amount to swap in order to bring the swap rates to the same in each pool, thus giving you the maximum profit possible and eliminating the arbitrage opportunity. Think about how you could do this off-chain (hint: if you know the reserve values of each assets in the pools, you could use the x * y = k formula to compute the resulting amount in each pool after swapping). You also want to be the first person to perform the arbitrage as soon as an opportunity forms, as the profiting from the arbitrage closes the opportunity. In practice, this type of simple arbitrage is extremely competitive and result in very high validator bribes through Flashbots bribes."
   ]
  }
 ],
 "metadata": {
  "kernelspec": {
   "display_name": "Python 3 (ipykernel)",
   "language": "python",
   "name": "python3"
  },
  "language_info": {
   "codemirror_mode": {
    "name": "ipython",
    "version": 3
   },
   "file_extension": ".py",
   "mimetype": "text/x-python",
   "name": "python",
   "nbconvert_exporter": "python",
   "pygments_lexer": "ipython3",
   "version": "3.10.10"
  }
 },
 "nbformat": 4,
 "nbformat_minor": 5
}
