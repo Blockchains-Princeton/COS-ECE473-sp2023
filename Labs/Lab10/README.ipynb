{
 "cells": [
  {
   "cell_type": "markdown",
   "id": "cd6988cb",
   "metadata": {},
   "source": [
    "# Objectives of this lab\n",
    "\n",
    "In this lab, we will:\n",
    "- Walk through how a Chainlink oracle works\n",
    "- Participate in our own oracle contract that collects values from the class\n",
    "- Demonstrate resilience against adversarial values"
   ]
  },
  {
   "cell_type": "code",
   "execution_count": null,
   "id": "f022453e-94a8-45be-8a90-120969a80a67",
   "metadata": {
    "tags": []
   },
   "outputs": [],
   "source": [
    "from web3 import Web3\n",
    "\n",
    "# Change this to use your own RPC URL for Goerli Testnet\n",
    "web3 = Web3(Web3.HTTPProvider('YOUR GOERLI RPC URL HERE'))"
   ]
  },
  {
   "cell_type": "markdown",
   "id": "c208cdd0",
   "metadata": {},
   "source": [
    "# Exploring production oracles (Chainlink):\n",
    "\n",
    "[Chainlink](https://chain.link/) is one of the most popular oracle providers on Ethereum. Let's take a high-level look at how the smart contracts for [the ETH-USD oracle on Chainlink](https://data.chain.link/ethereum/mainnet/crypto-usd/eth-usd) work for an example of how oracles can be implemented.\n",
    "\n",
    "An end-to-end view of a price feed such as this consists of three types of contracts: \n",
    "1. A consumer contract\n",
    "2. A proxy contract\n",
    "3. An aggregator contract"
   ]
  },
  {
   "cell_type": "markdown",
   "id": "43748cbf-2670-4dbf-887c-14475f51c247",
   "metadata": {
    "tags": []
   },
   "source": [
    "### Consumer contract\n",
    "\n",
    "The consumer contract is any piece of code that queries the aggregator for the oracle values. For the assignments, we would be writing a contract in Solidity. Below is a sample code for doing the same in Python."
   ]
  },
  {
   "cell_type": "code",
   "execution_count": null,
   "id": "429f2699",
   "metadata": {
    "tags": []
   },
   "outputs": [],
   "source": [
    "# ETH/USD Chainlink data feed address (Goerli)\n",
    "ETH_USD_PRICE_FEED_ADDR = '0xD4a33860578De61DBAbDc8BFdb98FD742fA7028e'\n",
    "\n",
    "# AggregatorV3Interface ABI\n",
    "abi = '[{\"inputs\":[],\"name\":\"decimals\",\"outputs\":[{\"internalType\":\"uint8\",\"name\":\"\",\"type\":\"uint8\"}],\"stateMutability\":\"view\",\"type\":\"function\"},{\"inputs\":[],\"name\":\"description\",\"outputs\":[{\"internalType\":\"string\",\"name\":\"\",\"type\":\"string\"}],\"stateMutability\":\"view\",\"type\":\"function\"},{\"inputs\":[{\"internalType\":\"uint80\",\"name\":\"_roundId\",\"type\":\"uint80\"}],\"name\":\"getRoundData\",\"outputs\":[{\"internalType\":\"uint80\",\"name\":\"roundId\",\"type\":\"uint80\"},{\"internalType\":\"int256\",\"name\":\"answer\",\"type\":\"int256\"},{\"internalType\":\"uint256\",\"name\":\"startedAt\",\"type\":\"uint256\"},{\"internalType\":\"uint256\",\"name\":\"updatedAt\",\"type\":\"uint256\"},{\"internalType\":\"uint80\",\"name\":\"answeredInRound\",\"type\":\"uint80\"}],\"stateMutability\":\"view\",\"type\":\"function\"},{\"inputs\":[],\"name\":\"latestRoundData\",\"outputs\":[{\"internalType\":\"uint80\",\"name\":\"roundId\",\"type\":\"uint80\"},{\"internalType\":\"int256\",\"name\":\"answer\",\"type\":\"int256\"},{\"internalType\":\"uint256\",\"name\":\"startedAt\",\"type\":\"uint256\"},{\"internalType\":\"uint256\",\"name\":\"updatedAt\",\"type\":\"uint256\"},{\"internalType\":\"uint80\",\"name\":\"answeredInRound\",\"type\":\"uint80\"}],\"stateMutability\":\"view\",\"type\":\"function\"},{\"inputs\":[],\"name\":\"version\",\"outputs\":[{\"internalType\":\"uint256\",\"name\":\"\",\"type\":\"uint256\"}],\"stateMutability\":\"view\",\"type\":\"function\"}]'\n",
    "\n",
    "# Set up contract instance\n",
    "contract = web3.eth.contract(address=ETH_USD_PRICE_FEED_ADDR, abi=abi)\n",
    "\n",
    "# Make call to latestRoundData()\n",
    "latest_round_data = contract.functions.latestRoundData().call() # returned format is roundId, answer, startedAt, updatedAt, answeredInRound\n",
    "\n",
    "price = latest_round_data[1] / 10**8 # reported with 8 decimals\n",
    "print(f\"Current oracle reported ETH-USD price: {price}\")"
   ]
  },
  {
   "cell_type": "markdown",
   "id": "8e47aeff",
   "metadata": {},
   "source": [
    "### Proxy contract\n",
    "\n",
    "Proxy contracts are on-chain proxies that point to the aggregator for a particular data feed. Using proxies enables the underlying aggregator to be upgraded without any service interruption to consuming contracts.\n",
    "\n",
    "The proxy contract for ETH-USD is deployed [here on mainnet](https://etherscan.io/address/0x5f4ec3df9cbd43714fe2740f5e3616155c5b8419#code) and [here on Goerli](https://goerli.etherscan.io/address/0xD4a33860578De61DBAbDc8BFdb98FD742fA7028e)."
   ]
  },
  {
   "cell_type": "markdown",
   "id": "77876484",
   "metadata": {
    "tags": []
   },
   "source": [
    "### Aggregator contract\n",
    "\n",
    "The contract code for the aggregator is given [here](https://github.com/smartcontractkit/libocr/blob/master/contract/AccessControlledOffchainAggregator.sol). An aggregator is the contract that receives periodic data updates from the network of nodes that have agreed to post their data to a particular Chainlink feed. The data collection and aggregation is done off-chain and the data is then posted on-chain. Aggregators store aggregated data on-chain so that consumers can retrieve it and and act upon it within the same transaction.\n",
    "\n",
    "You can access this data using the Data Feed address and the [AggregatorV3Interface contract](https://github.com/smartcontractkit/chainlink/blob/develop/contracts/src/v0.8/interfaces/AggregatorV3Interface.sol).\n",
    "\n",
    "Aggregators receive updates from the oracle network only when the *Deviation Threshold* or *Heartbeat Threshold* triggers an update during an aggregation round. The first condition that is met triggers an update to the data.\n",
    "\n",
    "- Deviation Threshold: A new aggregation round starts when a node identifies that the off-chain values deviate by more than the defined deviation threshold from the on-chain value. Individual nodes monitor one or more data providers for each feed.\n",
    "- Heartbeat Threshold: A new aggregation round starts after a specified amount of time from the last update."
   ]
  },
  {
   "cell_type": "markdown",
   "id": "04944546-307e-4ab9-97f6-be172faa6477",
   "metadata": {},
   "source": [
    "# Experimenting with our own oracle contract"
   ]
  },
  {
   "cell_type": "markdown",
   "id": "238c6879-0ffb-429f-a91a-9d3a3dc88407",
   "metadata": {},
   "source": [
    "The contract at `0xd1942f6B3Ee23918Ff3703cA1c6D76B6dA27ccf5` is an example of a very simple decentralized oracle implementation we created. Note that it is designed purely for an educational example and should not be used in production. There are many gas inefficiencies and obvious potential attack vectors, including a trivial Sybil attack.\n",
    "\n",
    "The oracle works as follows:\n",
    "- There are 3 public functions: `readValue()`, `reportValue(uint256)`, `processUpdate()`\n",
    "- Anyone can call `readValue()` to get the current oracle value and the block number that the value was last updated\n",
    "- Anyone can call `reportValue(uint256)` to report a value for the next round must pay `REQUIRED_PAYMENT` to do so\n",
    "- Anyone can call `processUpdate()` after `UPDATE_INTERVAL` blocks has passed since the last update\n",
    "    - The caller receives 10% of all payments in the round as an incentive\n",
    "    - The median value of all reported values is chosen as the latest oracle value\n",
    "    - All accounts that reported the chosen value split the remaining 90% of funds\n",
    "    \n",
    "This is a simple example design of an oracle that incentivises people to report the \"correct\" value, as they will be rewarded for doing so."
   ]
  },
  {
   "cell_type": "markdown",
   "id": "01c51c2a-e691-44de-9122-8be4cf0211c5",
   "metadata": {},
   "source": [
    "Below is the contract for the oracle. You can also view the [verified contract on Etherscan](https://goerli.etherscan.io/address/0xd1942f6b3ee23918ff3703ca1c6d76b6da27ccf5#code)."
   ]
  },
  {
   "cell_type": "markdown",
   "id": "428d3d7d-aff2-476f-b8ec-57f0f235ea00",
   "metadata": {
    "tags": []
   },
   "source": [
    "```javascript\n",
    "// SPDX-License-Identifier: UNLICENSED\n",
    "\n",
    "pragma solidity ^0.8.17;\n",
    "\n",
    "/*\n",
    "    This contract is an example of a very simple decentralized oracle implementation. Note that it is designed purely\n",
    "    for an educational example and should not be used in production. There are many gas inefficiencies and obvious\n",
    "    potential attack vectors, including a trivial Sybil attack.\n",
    "\n",
    "    The oracle works as follows:\n",
    "        - The oracle value is updated once every round, where each round is at least UPDATE_INTERVAL blocks long\n",
    "        - Anyone can call reportValue() to report a value for the next round must pay REQUIRED_PAYMENT to do so\n",
    "        - Anyone can call processUpdate() after UPDATE_INTERVAL has passed since the last update\n",
    "            - The caller receives 10% of all payments in the round as an incentive\n",
    "            - The median value of all reported values is chosen as the oracle value\n",
    "            - All accounts that reported the chosen value split the remaining 90% of funds\n",
    "*/\n",
    "contract Oracle {\n",
    "    // Used to keep track of who reported what values\n",
    "    struct ValueReport {\n",
    "        address reporter;\n",
    "        uint256 value;\n",
    "    }\n",
    "\n",
    "    uint256 public constant REQUIRED_PAYMENT = 0.01 ether; // Require all value reports to include a small payment\n",
    "    uint256 public constant UPDATE_INTERVAL = 15; // Require at least 15 blocks between updates (roughly 3 minutes)\n",
    "\n",
    "    ValueReport[] reports; // Keeps track of reports in this round\n",
    "    uint256 latestValue; // Value from the last round\n",
    "    uint256 lastUpdateBlock; // Block number of the last value update\n",
    "\n",
    "    // This is the function other contracts will interact with to get the oracle value\n",
    "    function readValue() external view returns (uint256, uint256) {\n",
    "        return (latestValue, lastUpdateBlock);\n",
    "    }\n",
    "\n",
    "    // This is the function used to report a value for the current round\n",
    "    function reportValue(uint256 value) external payable {\n",
    "        require(\n",
    "            msg.value == REQUIRED_PAYMENT,\n",
    "            \"Must send REQUIRED_PAYMENT ether\"\n",
    "        );\n",
    "\n",
    "        // Ensure no one reports multiple values per round\n",
    "        // Gas-inefficient and vulnerable to Sybil attacks\n",
    "        for (uint256 i = 0; i < reports.length; i++) {\n",
    "            require(\n",
    "                msg.sender != reports[i].reporter,\n",
    "                \"Can only report one value per round\"\n",
    "            );\n",
    "        }\n",
    "\n",
    "        reports.push(ValueReport(msg.sender, value));\n",
    "    }\n",
    "\n",
    "    // This is the function that determines the oracle value for the current round\n",
    "    // Value is chosen from the median of all reports in the round\n",
    "    function processUpdate() external {\n",
    "        require(\n",
    "            block.number - lastUpdateBlock >= UPDATE_INTERVAL,\n",
    "            \"Must wait at least UPDATE_INTERVAL blocks since previous update\"\n",
    "        );\n",
    "        require(reports.length >= 1, \"No new reports in this round\");\n",
    "\n",
    "        latestValue = median(reports, reports.length);\n",
    "\n",
    "        // Send 10% of all funds from this round to the caller (incentive for calling)\n",
    "        msg.sender.call{value: address(this).balance / 10}(\"\");\n",
    "\n",
    "        // Count the number of people who reported the median value\n",
    "        uint256 numCorrect = 0;\n",
    "        for (uint256 i = 0; i < reports.length; i++) {\n",
    "            if (reports[i].value == latestValue) {\n",
    "                numCorrect++;\n",
    "            }\n",
    "        }\n",
    "\n",
    "        // Distribute the remaining funds equally among everyone who was correct (incentive for reporting correct value)\n",
    "        uint256 reward = address(this).balance / numCorrect;\n",
    "        for (uint256 i = 0; i < reports.length; i++) {\n",
    "            if (reports[i].value == latestValue) {\n",
    "                reports[i].reporter.call{value: reward}(\"\");\n",
    "            }\n",
    "        }\n",
    "\n",
    "        lastUpdateBlock = block.number;\n",
    "        delete reports;\n",
    "    }\n",
    "\n",
    "    // Internal helper function for finding the median\n",
    "    // Very gas inefficient\n",
    "    // Adapted from: https://github.com/OpenZeppelin/openzeppelin-contracts/issues/1548#issuecomment-779249419\n",
    "\n",
    "    function swap(\n",
    "        ValueReport[] memory array,\n",
    "        uint256 i,\n",
    "        uint256 j\n",
    "    ) internal pure {\n",
    "        (array[i], array[j]) = (array[j], array[i]);\n",
    "    }\n",
    "\n",
    "    function sort(\n",
    "        ValueReport[] memory array,\n",
    "        uint256 begin,\n",
    "        uint256 end\n",
    "    ) internal pure {\n",
    "        if (begin < end) {\n",
    "            uint256 j = begin;\n",
    "            uint256 pivot = array[j].value;\n",
    "            for (uint256 i = begin + 1; i < end; ++i) {\n",
    "                if (array[i].value < pivot) {\n",
    "                    swap(array, i, ++j);\n",
    "                }\n",
    "            }\n",
    "            swap(array, begin, j);\n",
    "            sort(array, begin, j);\n",
    "            sort(array, j + 1, end);\n",
    "        }\n",
    "    }\n",
    "\n",
    "    function median(ValueReport[] memory array, uint256 length)\n",
    "        internal\n",
    "        pure\n",
    "        returns (uint256)\n",
    "    {\n",
    "        sort(array, 0, length);\n",
    "        return array[length / 2].value; // We take the larger value in the even case just to make it simple\n",
    "    }\n",
    "}\n",
    "```"
   ]
  },
  {
   "cell_type": "code",
   "execution_count": null,
   "id": "94456b8a-045b-4112-8dd7-4d713aebec9b",
   "metadata": {
    "tags": []
   },
   "outputs": [],
   "source": [
    "ORACLE_CONTRACT_ADDRESS = \"0xd1942f6B3Ee23918Ff3703cA1c6D76B6dA27ccf5\"\n",
    "ABI = '[{\"inputs\":[],\"name\":\"REQUIRED_PAYMENT\",\"outputs\":[{\"internalType\":\"uint256\",\"name\":\"\",\"type\":\"uint256\"}],\"stateMutability\":\"view\",\"type\":\"function\"},{\"inputs\":[],\"name\":\"UPDATE_INTERVAL\",\"outputs\":[{\"internalType\":\"uint256\",\"name\":\"\",\"type\":\"uint256\"}],\"stateMutability\":\"view\",\"type\":\"function\"},{\"inputs\":[],\"name\":\"processUpdate\",\"outputs\":[],\"stateMutability\":\"nonpayable\",\"type\":\"function\"},{\"inputs\":[],\"name\":\"readValue\",\"outputs\":[{\"internalType\":\"uint256\",\"name\":\"\",\"type\":\"uint256\"},{\"internalType\":\"uint256\",\"name\":\"\",\"type\":\"uint256\"}],\"stateMutability\":\"view\",\"type\":\"function\"},{\"inputs\":[{\"internalType\":\"uint256\",\"name\":\"value\",\"type\":\"uint256\"}],\"name\":\"reportValue\",\"outputs\":[],\"stateMutability\":\"payable\",\"type\":\"function\"}]'"
   ]
  },
  {
   "cell_type": "markdown",
   "id": "409ac988-6faf-436d-b01c-cf8b1b2e1f85",
   "metadata": {
    "tags": []
   },
   "source": [
    "# Read the latest oracle value"
   ]
  },
  {
   "cell_type": "markdown",
   "id": "d820dbe7-9b6a-4c13-bc02-9e2ae22aef74",
   "metadata": {},
   "source": [
    "Let's read the latest value from the oracle."
   ]
  },
  {
   "cell_type": "code",
   "execution_count": null,
   "id": "f6d4f1b7-a345-40cd-89ed-6777d9c7e609",
   "metadata": {
    "tags": []
   },
   "outputs": [],
   "source": [
    "contract = web3.eth.contract(address=ORACLE_CONTRACT_ADDRESS, abi=ABI)\n",
    "value, block_number = contract.functions.readValue().call()\n",
    "\n",
    "print(f\"The current oracle value is {value}\")\n",
    "print(f\"Value was last updated at block {block_number} ({web3.eth.block_number - block_number} blocks ago)\")"
   ]
  },
  {
   "cell_type": "markdown",
   "id": "bbbe1781-5cbf-4803-ac60-3dbb48cfbaad",
   "metadata": {
    "tags": []
   },
   "source": [
    "## Reporting a value to the oracle"
   ]
  },
  {
   "cell_type": "markdown",
   "id": "10ed18f7-89d4-4589-a3e6-59e03aab49f3",
   "metadata": {},
   "source": [
    "Now, let's a report a value to the oracle for the upcoming update. \n",
    "\n",
    "Remember, everyone who reports the median value during this round will split all the rewards, so it is in your interest to report a value as close as possible to what you think is the correct value. You can only make one report per round.\n",
    "\n",
    "- Go to the [write contract page](https://goerli.etherscan.io/address/0xd1942f6b3ee23918ff3703ca1c6d76b6da27ccf5#writeContract) for the oracle on Etherscan.\n",
    "- Make a transaction calling `reportValue()` by providing 0.01 Goerli ETH along with the value you wish to report\n",
    "\n",
    "Whenever at least `UPDATE_INTERVAL` blocks have passed since the last update, anyone can call `processUpdate()` to trigger the oracle update and rewards distribution. This example contract distributes Goerli ETH as a reward, but you could easily imagine that the reward could be the protocol's token or something else similar instead.\n",
    "\n",
    "Try being the first to call `processUpdate()` to get the caller reward for free. (HINT: calling `readValue()` also tells you the last block the value was updated at. The variable `UPDATE_INTERVAL` defines the minimum number of blocks between intervals."
   ]
  },
  {
   "cell_type": "markdown",
   "id": "14853848",
   "metadata": {
    "tags": []
   },
   "source": [
    "## Reporting adversarial values"
   ]
  },
  {
   "cell_type": "markdown",
   "id": "7d7ba047-070a-4df2-bcc1-82bfdcd66339",
   "metadata": {},
   "source": [
    "Oracles should be resilient to malicious input. For this part, we want approximately 1/3 of the class to report an adverserial value and hopefully demonstrate that our oracle still produces a reasonable value.\n",
    "\n",
    "When instructed to do so:\n",
    "- If your birth month is January, February, March or April\n",
    "    - Call `reportValue()` and report an adverserial value\n",
    "- Otherwise\n",
    "    - Call `reportValue()` and report what you believe is the true value"
   ]
  },
  {
   "cell_type": "markdown",
   "id": "5d74d94f-6de1-45b0-b6d1-179b39ebf643",
   "metadata": {},
   "source": [
    "After the next update, call `readValue()` to see what value the oracle decided on. Hopefully, it seems reasonable!"
   ]
  },
  {
   "cell_type": "code",
   "execution_count": null,
   "id": "dd6bd6b1-cf36-40a0-acc1-08bc071ee430",
   "metadata": {},
   "outputs": [],
   "source": []
  }
 ],
 "metadata": {
  "kernelspec": {
   "display_name": "Python 3 (ipykernel)",
   "language": "python",
   "name": "python3"
  },
  "language_info": {
   "codemirror_mode": {
    "name": "ipython",
    "version": 3
   },
   "file_extension": ".py",
   "mimetype": "text/x-python",
   "name": "python",
   "nbconvert_exporter": "python",
   "pygments_lexer": "ipython3",
   "version": "3.9.15"
  }
 },
 "nbformat": 4,
 "nbformat_minor": 5
}
